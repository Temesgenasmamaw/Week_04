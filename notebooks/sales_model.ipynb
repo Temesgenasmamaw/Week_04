{
 "cells": [
  {
   "cell_type": "code",
   "execution_count": 1,
   "metadata": {},
   "outputs": [
    {
     "name": "stderr",
     "output_type": "stream",
     "text": [
      "2024-09-25 09:02:43,185 - INFO - Imported libraries and configured logging.\n"
     ]
    }
   ],
   "source": [
    "# Import necessary libraries\n",
    "import pandas as pd\n",
    "import logging\n",
    "import os, sys\n",
    "# Add the 'scripts' directory to the Python path for module imports\n",
    "sys.path.append(os.path.abspath(os.path.join('..', 'scripts')))\n",
    "# Import SalesModel class\n",
    "from model import SalesModel\n",
    "\n",
    "# Configure logging\n",
    "logging.basicConfig(level=logging.INFO, \n",
    "                    format='%(asctime)s - %(levelname)s - %(message)s')\n",
    "logger = logging.getLogger(__name__)\n",
    "\n",
    "logger.info(\"Imported libraries and configured logging.\")"
   ]
  },
  {
   "cell_type": "code",
   "execution_count": 2,
   "metadata": {},
   "outputs": [
    {
     "name": "stderr",
     "output_type": "stream",
     "text": [
      "2024-09-25 09:02:48,181 - INFO - Build Model Pipeline\n"
     ]
    },
    {
     "name": "stdout",
     "output_type": "stream",
     "text": [
      "Model RMSE: 961.10\n",
      "Model RMSLE: 0.1465\n"
     ]
    }
   ],
   "source": [
    "logger.info(\"Build Model Pipeline\")\n",
    "if __name__ == \"__main__\":\n",
    "    # Assume you have a DataFrame `df` with all the preprocessed features and a target 'Sales'\n",
    "    train = pd.read_csv('../data/train_processed.csv', low_memory=False, index_col='Date')  # Replace with your actual data\n",
    "    \n",
    "    test = pd.read_csv('../data/test_processed.csv', low_memory=False, index_col='Id')  # Replace with your actual data\n",
    "    # Initialize the model class\n",
    "    sales_model = SalesModel()\n",
    "\n",
    "    # Preprocess the data and split into train/test sets\n",
    "    sales_model.preprocess_data(train, target_column='Sales')\n",
    "       \n",
    "    # Train the RandomForestRegressor model\n",
    "    sales_model.train_model()\n",
    "    \n",
    "\n",
    "\n",
    "    # Evaluate the model and print the RMSE\n",
    "    sales_model.evaluate_model()\n",
    "    # print(f\"Model RMSE: {rmse:.2f}\")"
   ]
  },
  {
   "cell_type": "code",
   "execution_count": 3,
   "metadata": {},
   "outputs": [
    {
     "name": "stderr",
     "output_type": "stream",
     "text": [
      "d:\\Kifya\\Week_04\\.venv\\Lib\\site-packages\\sklearn\\linear_model\\_logistic.py:1247: FutureWarning: 'multi_class' was deprecated in version 1.5 and will be removed in 1.7. From then on, it will always use 'multinomial'. Leave it to its default value to avoid this warning.\n",
      "  warnings.warn(\n"
     ]
    }
   ],
   "source": [
    "# parameter fine tune\n",
    "sales_model.find_best_model_using_gridsearchcv()"
   ]
  },
  {
   "cell_type": "code",
   "execution_count": null,
   "metadata": {},
   "outputs": [],
   "source": []
  }
 ],
 "metadata": {
  "kernelspec": {
   "display_name": ".venv",
   "language": "python",
   "name": "python3"
  },
  "language_info": {
   "codemirror_mode": {
    "name": "ipython",
    "version": 3
   },
   "file_extension": ".py",
   "mimetype": "text/x-python",
   "name": "python",
   "nbconvert_exporter": "python",
   "pygments_lexer": "ipython3",
   "version": "3.11.9"
  }
 },
 "nbformat": 4,
 "nbformat_minor": 2
}
